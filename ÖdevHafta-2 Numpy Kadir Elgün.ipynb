{
 "cells": [
  {
   "cell_type": "markdown",
   "id": "5aa54da6-12c1-4ea2-b6e5-9b46c52b682e",
   "metadata": {
    "tags": []
   },
   "source": [
    "# **ÖDEV-2**"
   ]
  },
  {
   "cell_type": "markdown",
   "id": "0fc79ed2-e47c-4fc8-9615-df8510cb7f1f",
   "metadata": {},
   "source": [
    "1-Numpy kütüphanesini import edin."
   ]
  },
  {
   "cell_type": "code",
   "execution_count": 1,
   "id": "07fd4a5d",
   "metadata": {},
   "outputs": [],
   "source": [
    "import numpy as np"
   ]
  },
  {
   "cell_type": "markdown",
   "id": "e9252687-0c17-419f-befc-559632204b18",
   "metadata": {},
   "source": [
    "2-1'den 5 e kadar (5 dahil) b isimli bir dizi oluşturun."
   ]
  },
  {
   "cell_type": "code",
   "execution_count": 3,
   "id": "3ac86cef",
   "metadata": {},
   "outputs": [
    {
     "name": "stdout",
     "output_type": "stream",
     "text": [
      "[1 2 3 4 5]\n"
     ]
    }
   ],
   "source": [
    "b = np.arange(1,6,1)\n",
    "print(b)"
   ]
  },
  {
   "cell_type": "markdown",
   "id": "5664bfd3-8011-4575-a10a-f23b18a11fce",
   "metadata": {},
   "source": [
    "3- 20 adet 0'dan oluşan 4 x 5' lik dizi oluşturun."
   ]
  },
  {
   "cell_type": "code",
   "execution_count": 4,
   "id": "bdd8c217",
   "metadata": {},
   "outputs": [
    {
     "name": "stdout",
     "output_type": "stream",
     "text": [
      "[[0 0 0 0 0]\n",
      " [0 0 0 0 0]\n",
      " [0 0 0 0 0]\n",
      " [0 0 0 0 0]]\n"
     ]
    }
   ],
   "source": [
    "zerosMatrix = np.zeros((4,5), dtype = int)\n",
    "print(zerosMatrix)"
   ]
  },
  {
   "cell_type": "markdown",
   "id": "b571ec93-687f-42d7-ba55-cd082eeee6fa",
   "metadata": {},
   "source": [
    "4- 15 adet 7 sayısından oluşan diziyi 3x5 olarak yazın."
   ]
  },
  {
   "cell_type": "code",
   "execution_count": 6,
   "id": "7dafcff6",
   "metadata": {},
   "outputs": [
    {
     "name": "stdout",
     "output_type": "stream",
     "text": [
      "[[7 7 7 7 7]\n",
      " [7 7 7 7 7]\n",
      " [7 7 7 7 7]]\n"
     ]
    }
   ],
   "source": [
    "sevensMatrix = np.full((3,5), 7)\n",
    "print(sevensMatrix)"
   ]
  },
  {
   "cell_type": "markdown",
   "id": "ee34b066-12b3-45d9-92bc-62f88ab4c753",
   "metadata": {},
   "source": [
    "5- 10–70 e kadar 5 er artan sayıları yaz."
   ]
  },
  {
   "cell_type": "code",
   "execution_count": 7,
   "id": "2fc28f19",
   "metadata": {},
   "outputs": [
    {
     "data": {
      "text/plain": [
       "array([10, 15, 20, 25, 30, 35, 40, 45, 50, 55, 60, 65, 70])"
      ]
     },
     "execution_count": 7,
     "metadata": {},
     "output_type": "execute_result"
    }
   ],
   "source": [
    "np.arange(10,71, 5)"
   ]
  },
  {
   "cell_type": "markdown",
   "id": "520efa56-fd4e-483c-a084-5ce79c0b687b",
   "metadata": {},
   "source": [
    "6- 10–20 arasında 15 aynı uzaklıkta elemanı olan array oluşturun. (linspace metodunu kullanın.)"
   ]
  },
  {
   "cell_type": "code",
   "execution_count": 8,
   "id": "92a675fb",
   "metadata": {},
   "outputs": [
    {
     "data": {
      "text/plain": [
       "array([10.        , 10.71428571, 11.42857143, 12.14285714, 12.85714286,\n",
       "       13.57142857, 14.28571429, 15.        , 15.71428571, 16.42857143,\n",
       "       17.14285714, 17.85714286, 18.57142857, 19.28571429, 20.        ])"
      ]
     },
     "execution_count": 8,
     "metadata": {},
     "output_type": "execute_result"
    }
   ],
   "source": [
    "np.linspace(10,20,15)"
   ]
  },
  {
   "cell_type": "markdown",
   "id": "7b889d5c-5ae2-470d-afb8-dda163eb9109",
   "metadata": {},
   "source": [
    "7- Rastgele sayılardan oluşan diziyi 3x5 boyutunda yazdır."
   ]
  },
  {
   "cell_type": "code",
   "execution_count": 13,
   "id": "02b26dc1",
   "metadata": {},
   "outputs": [
    {
     "data": {
      "text/plain": [
       "array([[5, 2, 6, 0, 5],\n",
       "       [2, 3, 1, 5, 4],\n",
       "       [8, 1, 8, 7, 9]])"
      ]
     },
     "execution_count": 13,
     "metadata": {},
     "output_type": "execute_result"
    }
   ],
   "source": [
    "np.random.randint(10, size=(3,5))"
   ]
  },
  {
   "cell_type": "markdown",
   "id": "ea4131f4-1ad8-465f-8cad-0e675b2d14a6",
   "metadata": {},
   "source": [
    "8- 5 elemanlı birim matris oluşturun. eye() metodu kullanın."
   ]
  },
  {
   "cell_type": "code",
   "execution_count": 14,
   "id": "55ed3063",
   "metadata": {},
   "outputs": [
    {
     "data": {
      "text/plain": [
       "array([[1., 0., 0., 0., 0.],\n",
       "       [0., 1., 0., 0., 0.],\n",
       "       [0., 0., 1., 0., 0.],\n",
       "       [0., 0., 0., 1., 0.],\n",
       "       [0., 0., 0., 0., 1.]])"
      ]
     },
     "execution_count": 14,
     "metadata": {},
     "output_type": "execute_result"
    }
   ],
   "source": [
    "np.eye(5,5)"
   ]
  },
  {
   "cell_type": "markdown",
   "id": "9977eb30-ba6a-40eb-b837-f044caf08532",
   "metadata": {},
   "source": [
    "9- 0'dan 24 e kadar array oluştur. Sonra reshape metodu ile 4x6 boyutu olarak yazın."
   ]
  },
  {
   "cell_type": "code",
   "execution_count": 19,
   "id": "3013fa4a",
   "metadata": {},
   "outputs": [
    {
     "name": "stdout",
     "output_type": "stream",
     "text": [
      "[[ 0  1  2  3  4  5]\n",
      " [ 6  7  8  9 10 11]\n",
      " [12 13 14 15 16 17]\n",
      " [18 19 20 21 22 23]]\n"
     ]
    }
   ],
   "source": [
    "a = np.arange(0,24).reshape((4,6))\n",
    "print(a)"
   ]
  },
  {
   "cell_type": "markdown",
   "id": "ed17eab4-f8c9-4c7b-8cfc-33693ecc01df",
   "metadata": {},
   "source": [
    "10- 0 ile 1 arasında rastgele 10 sayıdan oluşan bir array tanımlayın. Minimum ve maksimum değerleri bulun."
   ]
  },
  {
   "cell_type": "code",
   "execution_count": 23,
   "id": "6a2772c8",
   "metadata": {},
   "outputs": [
    {
     "name": "stdout",
     "output_type": "stream",
     "text": [
      "[0.77493118 0.55493738 0.2496477  0.02890989 0.08192697 0.73130031\n",
      " 0.8648203  0.24198961 0.56645591 0.01877122]\n",
      "Minimum vale of array is: 0.01877122221730121\n",
      "maximum vale of array is: 0.8648203046757139\n"
     ]
    }
   ],
   "source": [
    "sortedArr = np.random.random(10)\n",
    "print(sortedArr)\n",
    "\n",
    "print(\"Minimum vale of array is: \" + str(min(sortedArr)))\n",
    "print(\"maximum vale of array is: \" + str(max(sortedArr)))"
   ]
  },
  {
   "cell_type": "markdown",
   "id": "8e4d6c2a-806d-492b-bff9-a6b67b696b4e",
   "metadata": {},
   "source": [
    "11- 36 sayıdan oluşan rastgele sayılar 6x6' lık array olarak yazdırın."
   ]
  },
  {
   "cell_type": "code",
   "execution_count": 26,
   "id": "8760f25c",
   "metadata": {},
   "outputs": [
    {
     "name": "stdout",
     "output_type": "stream",
     "text": [
      "[[44 33 86 28 58  6]\n",
      " [90 75 67 12 57 55]\n",
      " [58 67 70 83 72 15]\n",
      " [74 53 79 20 22 52]\n",
      " [35 98 24 78 97 27]\n",
      " [73 80 72 70 50  2]]\n"
     ]
    }
   ],
   "source": [
    "newArr = np.random.randint(100, size=(6,6))\n",
    "print(newArr)"
   ]
  },
  {
   "cell_type": "markdown",
   "id": "c81dc2f7-5c00-4d43-853e-5cc4035e6eca",
   "metadata": {},
   "source": [
    "12- 5.satırdaki elemanları gösteriniz."
   ]
  },
  {
   "cell_type": "code",
   "execution_count": 57,
   "id": "c29c04c5",
   "metadata": {},
   "outputs": [
    {
     "name": "stdout",
     "output_type": "stream",
     "text": [
      "[35 98 24 78 97 27]\n"
     ]
    }
   ],
   "source": [
    "print(newArr[4,:])"
   ]
  },
  {
   "cell_type": "markdown",
   "id": "245ff696-9131-4099-b4da-fd6a742638a7",
   "metadata": {},
   "source": [
    "13- 6.satır ve 6.sutundaki elemanları gösteriniz."
   ]
  },
  {
   "cell_type": "code",
   "execution_count": 44,
   "id": "418369c9",
   "metadata": {},
   "outputs": [
    {
     "name": "stdout",
     "output_type": "stream",
     "text": [
      "6. row: [73 80 72 70 50  2]\n",
      "6. column: [ 6 55 15 52 27  2]\n"
     ]
    }
   ],
   "source": [
    "print(\"6. row: \" + str(newArr[5,:]))\n",
    "print(\"6. column: \" + str(newArr[:,5]))"
   ]
  },
  {
   "cell_type": "markdown",
   "id": "0c33bb81-f4a9-4a67-8ab8-d422db01c442",
   "metadata": {},
   "source": [
    "14-4.sutundaki tüm elemanları çekin."
   ]
  },
  {
   "cell_type": "code",
   "execution_count": 58,
   "id": "b9431bf2",
   "metadata": {},
   "outputs": [
    {
     "name": "stdout",
     "output_type": "stream",
     "text": [
      "4. column: [28 12 83 20 78 70]\n"
     ]
    }
   ],
   "source": [
    "print(\"4. column: \" + str(newArr[:,3]))"
   ]
  },
  {
   "cell_type": "markdown",
   "id": "e1ad52f0-1293-4db1-8825-78b65b87f7ba",
   "metadata": {},
   "source": [
    "15- For döngüsünü ve flat metodunu kullanarak satır satır elemanları yazdırınız."
   ]
  },
  {
   "cell_type": "code",
   "execution_count": 72,
   "id": "ddc183a6",
   "metadata": {},
   "outputs": [
    {
     "name": "stdout",
     "output_type": "stream",
     "text": [
      "[44 33 86 28 58  6]\n",
      "[90 75 67 12 57 55]\n",
      "[58 67 70 83 72 15]\n",
      "[74 53 79 20 22 52]\n",
      "[35 98 24 78 97 27]\n",
      "[73 80 72 70 50  2]\n"
     ]
    }
   ],
   "source": [
    "for i in range(len(newArr)):\n",
    "    print(newArr[i,:].flatten())"
   ]
  },
  {
   "cell_type": "markdown",
   "id": "01f6ea0d-c5a4-41c4-a065-353930cc9fc3",
   "metadata": {},
   "source": [
    "16- 0 ile 1 aralığında bir array oluştur. Bu array değerini 5 ile çarpın."
   ]
  },
  {
   "cell_type": "code",
   "execution_count": 93,
   "id": "8d924a55",
   "metadata": {},
   "outputs": [
    {
     "name": "stdout",
     "output_type": "stream",
     "text": [
      "[[0.66990748 0.87891365 0.55664246 0.31464497 0.91919487]\n",
      " [0.33249542 0.72875928 0.17348528 0.27206564 0.65296921]\n",
      " [0.00139572 0.82296984 0.86499232 0.72410964 0.036304  ]\n",
      " [0.01340055 0.35952031 0.1070014  0.7753943  0.50118954]\n",
      " [0.733375   0.25325408 0.19414856 0.81399643 0.04557789]]\n",
      "\n",
      "[[3.34953738 4.39456823 2.7832123  1.57322485 4.59597435]\n",
      " [1.66247708 3.64379638 0.86742642 1.36032821 3.26484607]\n",
      " [0.00697858 4.11484921 4.32496158 3.62054822 0.18151998]\n",
      " [0.06700273 1.79760156 0.53500699 3.8769715  2.50594771]\n",
      " [3.66687502 1.26627042 0.97074279 4.06998213 0.22788943]]\n"
     ]
    }
   ],
   "source": [
    "randomArr =  np.random.random((5,5))\n",
    "print(randomArr)\n",
    "\n",
    "print(\"\\n\" + str(np.multiply(randomArr,5)))"
   ]
  },
  {
   "cell_type": "markdown",
   "id": "4188e6c6-a996-479a-8659-f9786e51c7c7",
   "metadata": {},
   "source": [
    "16- Satırların toplam değeri nedir?"
   ]
  },
  {
   "cell_type": "code",
   "execution_count": 108,
   "id": "ae063f03",
   "metadata": {},
   "outputs": [
    {
     "name": "stdout",
     "output_type": "stream",
     "text": [
      "Sum of 1. row: 3.3393034228827654\n",
      "Sum of 2. row: 2.1597748324596058\n",
      "Sum of 3. row: 2.4497715127683843\n",
      "Sum of 4. row: 1.7565060975188773\n",
      "Sum of 5. row: 2.040351957760277\n"
     ]
    }
   ],
   "source": [
    "for i in range(len(randomArr)):\n",
    "    print(\"Sum of \" + str(i+1) + \". row: \" + str(sum(randomArr[i,:])))"
   ]
  },
  {
   "cell_type": "markdown",
   "id": "8499b1c0-f59c-49f9-9371-ecba2ec4881b",
   "metadata": {},
   "source": [
    "17-Satırların standart sapma değeri nedir?"
   ]
  },
  {
   "cell_type": "code",
   "execution_count": 111,
   "id": "f83b9464",
   "metadata": {},
   "outputs": [
    {
     "name": "stdout",
     "output_type": "stream",
     "text": [
      "standard deviation of 1. row: 0.22129041980772698\n",
      "standard deviation of 2. row: 0.2187251563377594\n",
      "standard deviation of 3. row: 0.38752281936287536\n",
      "standard deviation of 4. row: 0.27431670448848094\n",
      "standard deviation of 5. row: 0.30715810032966256\n"
     ]
    }
   ],
   "source": [
    "for i in range(len(randomArr)):\n",
    "    print(\"standard deviation of \" + str(i+1) + \". row: \" + str(np.std(randomArr[i,:])))"
   ]
  },
  {
   "cell_type": "markdown",
   "id": "72b44cf8-59a7-41e4-88c8-ef467855de60",
   "metadata": {},
   "source": [
    "18-Satırların varyans değeri nedir?"
   ]
  },
  {
   "cell_type": "code",
   "execution_count": 112,
   "id": "bbeb8f7e",
   "metadata": {},
   "outputs": [
    {
     "name": "stdout",
     "output_type": "stream",
     "text": [
      "Variance of 1. row: 0.04896944989868005\n",
      "Variance of 2. row: 0.0478406940149773\n",
      "Variance of 3. row: 0.1501739355269517\n",
      "Variance of 4. row: 0.07524965436142059\n",
      "Variance of 5. row: 0.09434609859812705\n"
     ]
    }
   ],
   "source": [
    "for i in range(len(randomArr)):\n",
    "    print(\"Variance of \" + str(i+1) + \". row: \" + str(np.var(randomArr[i,:])))"
   ]
  },
  {
   "cell_type": "markdown",
   "id": "84a08fe8-e474-4af1-8025-f295cc463a1a",
   "metadata": {},
   "source": [
    "19- Satırların transpoz değeri nedir?"
   ]
  },
  {
   "cell_type": "code",
   "execution_count": 113,
   "id": "5d8af629",
   "metadata": {},
   "outputs": [
    {
     "name": "stdout",
     "output_type": "stream",
     "text": [
      "[[0.66990748 0.33249542 0.00139572 0.01340055 0.733375  ]\n",
      " [0.87891365 0.72875928 0.82296984 0.35952031 0.25325408]\n",
      " [0.55664246 0.17348528 0.86499232 0.1070014  0.19414856]\n",
      " [0.31464497 0.27206564 0.72410964 0.7753943  0.81399643]\n",
      " [0.91919487 0.65296921 0.036304   0.50118954 0.04557789]]\n"
     ]
    }
   ],
   "source": [
    "print(randomArr.T)"
   ]
  },
  {
   "cell_type": "code",
   "execution_count": null,
   "id": "fd9e59b8",
   "metadata": {},
   "outputs": [],
   "source": []
  }
 ],
 "metadata": {
  "kernelspec": {
   "display_name": "Python 3 (ipykernel)",
   "language": "python",
   "name": "python3"
  },
  "language_info": {
   "codemirror_mode": {
    "name": "ipython",
    "version": 3
   },
   "file_extension": ".py",
   "mimetype": "text/x-python",
   "name": "python",
   "nbconvert_exporter": "python",
   "pygments_lexer": "ipython3",
   "version": "3.8.12"
  }
 },
 "nbformat": 4,
 "nbformat_minor": 5
}
